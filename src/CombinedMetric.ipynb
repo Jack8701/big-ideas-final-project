{
 "cells": [
  {
   "attachments": {},
   "cell_type": "markdown",
   "id": "8ac0ff46-558c-49e9-a6b7-eec693bdf68f",
   "metadata": {},
   "source": [
    "**Best Neighborhoods**\n",
    "\n",
    "**Worst Neighborhoods**\n",
    "1. Rankin\n",
    "2. Mckees Rocks\n",
    "3. Mount Oliver\n",
    "4. Wilmerding\n",
    "5. East Pittsburgh\n"
   ]
  }
 ],
 "metadata": {
  "kernelspec": {
   "display_name": "Python 3 (ipykernel)",
   "language": "python",
   "name": "python3"
  },
  "language_info": {
   "codemirror_mode": {
    "name": "ipython",
    "version": 3
   },
   "file_extension": ".py",
   "mimetype": "text/x-python",
   "name": "python",
   "nbconvert_exporter": "python",
   "pygments_lexer": "ipython3",
   "version": "3.12.4"
  }
 },
 "nbformat": 4,
 "nbformat_minor": 5
}
