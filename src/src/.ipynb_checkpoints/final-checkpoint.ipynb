{
 "cells": [
  {
   "cell_type": "markdown",
   "id": "08a2ac68-f8b9-47ea-ab4a-77b9e4ae5bc9",
   "metadata": {},
   "source": [
    " ## Introduction\n",
    "Defining the \"best\" neighborhood in Pittsburgh is a very subjective process. To help eliminate some of the human bias, an analytical approach can be used.\n",
    "\n",
    "We used three sub-metrics to help determine this, quality of life, assaults, and housing-economics.\n",
    "\n",
    "To accomplish this, we needed various data sets:\n",
    "* Quality of Life: Neighborhoods with SNAP data\n",
    "* Assaults: 911 EMS Dispatches and Population by Municipality\n",
    "* Housing-Economics:\n",
    "\n",
    "\n",
    "## The Best Neighborhood\n",
    "McKeesport - To be determiend\n",
    "Regent Square: A high QOL score, great economics for housing, and average assault rates.\n",
    "\n",
    "\n",
    "## Conclusions\n",
    "* Jack Carluccio - Given that I do not live in Pittsburgh, I do not have a solid opinion on the best neighborhood. However, I would pick downtown Pittsburgh, because I love the city. Although, my metric of quality of life would directly punish downtown, because it uses population density as a bad metric.\"\n",
    "* Jack Peters - Lincoln Place is my choice for the best neighborhood as it performs well in the quality of life measurement, has a good median home value, and only has 5 assault dispatches per 1,000 people which is great for a neighborhood with a substatial population near the bulk of Pittsburgh."
   ]
  },
  {
   "cell_type": "code",
   "execution_count": null,
   "id": "ec7c97ea-077b-4451-b8a5-fca1f6a1be7b",
   "metadata": {},
   "outputs": [],
   "source": []
  }
 ],
 "metadata": {
  "kernelspec": {
   "display_name": "Python 3 (ipykernel)",
   "language": "python",
   "name": "python3"
  },
  "language_info": {
   "codemirror_mode": {
    "name": "ipython",
    "version": 3
   },
   "file_extension": ".py",
   "mimetype": "text/x-python",
   "name": "python",
   "nbconvert_exporter": "python",
   "pygments_lexer": "ipython3",
   "version": "3.12.4"
  }
 },
 "nbformat": 4,
 "nbformat_minor": 5
}
