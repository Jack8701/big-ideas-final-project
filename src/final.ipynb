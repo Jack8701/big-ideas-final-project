{
 "cells": [
  {
   "cell_type": "markdown",
   "id": "08a2ac68-f8b9-47ea-ab4a-77b9e4ae5bc9",
   "metadata": {},
   "source": [
    " ## Introduction\n",
    "Defining the \"best\" neighborhood in Pittsburgh is a very subjective process. To help eliminate some of the human bias, an analytical approach can be used.\n",
    "\n",
    "We used three sub-metrics to help determine this, quality of life, assaults, and housing-economics.\n",
    "\n",
    "To accomplish this, we needed various data sets:\n",
    "* Quality of Life: Neighborhoods with SNAP data\n",
    "* Assaults: 911 EMS Dispatches and Population by Municipality\n",
    "* Housing-Economics:\n",
    "\n",
    "\n",
    "## The Best Neighborhood\n",
    "McKeesport - To be determiend\n",
    "Regent Square: A high QOL score, great economics for housing, and average assault rates.\n",
    "\n",
    "\n",
    "## Conclusions\n",
    "* Jack Carluccio - Given that I do not live in Pittsburgh, I do not have a solid opinion on the best neighborhood. However, I would pick downtown Pittsburgh, because I love the city. Although, my metric of quality of life would directly punish downtown, because it uses population density as a bad metric.\"\n",
    "* Jack Peters - I would pick Licoln Place to be the best neighborhood because it performs well in our quality of life metric, has a good median home value, and only averages 5 assault dispatches per 1,000 people per year which is very good for a neighborhood with a medium sized population near to the bulk of Pittsburgh."
    "* Tina Tran - I would pick Squirrel Hill North as the best neighborhood in Pittsburg. As someone who grew up in Pittsburgh I can concur that Squirrel Hill has a great school, plenty of places to eat, and many shops to look at. Based off of my data set I found that they have the highest composite score for the best economy which directly impacts their school district."
   ]
  },
  {
   "cell_type": "code",
   "execution_count": null,
   "id": "49ad5e4a-2df0-4679-963d-6ffb39a06993",
   "metadata": {},
   "outputs": [],
   "source": []
  }
 ],
 "metadata": {
  "kernelspec": {
   "display_name": "Python 3 (ipykernel)",
   "language": "python",
   "name": "python3"
  },
  "language_info": {
   "codemirror_mode": {
    "name": "ipython",
    "version": 3
   },
   "file_extension": ".py",
   "mimetype": "text/x-python",
   "name": "python",
   "nbconvert_exporter": "python",
   "pygments_lexer": "ipython3",
   "version": "3.12.4"
  }
 },
 "nbformat": 4,
 "nbformat_minor": 5
}
