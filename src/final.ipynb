{
 "cells": [
  {
   "cell_type": "markdown",
   "id": "8722975b-254e-4730-98e6-b957f277269d",
   "metadata": {},
   "source": [
    "## Introduction\n",
    "Defining the \"best\" neighborhood in Pittsburgh is a very subjective process. To help eliminate some of the human bias, an analytical approach can be used.\n",
    "\n",
    "We used three sub-metrics to help determine this, quality of life, assaults, and housing-economics.\n",
    "\n",
    "To accomplish this, we needed various data sets:\n",
    "* Quality of Life: Neighborhoods with SNAP data\n",
    "* Assaults: 911 EMS Dispatches and Population by Municipality\n",
    "* Housing-Economics:\n",
    "\n",
    "\n",
    "## The Best Neighborhood\n",
    "McKeesport - To be determiend\n",
    "\n",
    "\n",
    "## Conclusions\n",
    "* Jack Carluccio - Given that I do not live in Pittsburgh, I do not have a solid opinion on the best neighborhood. However, I would pick downtown Pittsburgh, because I love the city. Although, my metric of quality of life would directly punish downtown, because it uses population density as a bad metric."
   ]
  }
 ],
 "metadata": {
  "kernelspec": {
   "display_name": "",
   "name": ""
  },
  "language_info": {
   "name": ""
  }
 },
 "nbformat": 4,
 "nbformat_minor": 5
}
